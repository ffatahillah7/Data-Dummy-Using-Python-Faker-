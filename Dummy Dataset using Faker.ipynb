{
 "cells": [
  {
   "cell_type": "code",
   "execution_count": 1,
   "id": "0ba196cd-2385-4f87-9ffa-85784cd0e362",
   "metadata": {},
   "outputs": [],
   "source": [
    "#Import Library needed\n",
    "\n",
    "import pandas as pd\n",
    "from faker import Faker\n",
    "from faker.providers import internet\n"
   ]
  },
  {
   "cell_type": "code",
   "execution_count": 11,
   "id": "02dac656-d4e4-4518-894b-896858243809",
   "metadata": {},
   "outputs": [
    {
     "data": {
      "text/plain": [
       "'Rebecca Morales'"
      ]
     },
     "execution_count": 11,
     "metadata": {},
     "output_type": "execute_result"
    }
   ],
   "source": [
    "#define fake data with Faker component\n",
    "#you can use your own language\n",
    "\n",
    "fake_data = Faker()\n",
    "\n",
    "#test name\n",
    "fake_data.name()\n",
    "#fake_data.unique.random_int(1,31)"
   ]
  },
  {
   "cell_type": "code",
   "execution_count": 3,
   "id": "179d7f3a-9086-490a-90e4-ffc245faf083",
   "metadata": {},
   "outputs": [
    {
     "name": "stdout",
     "output_type": "stream",
     "text": [
      "Angela Conway\n",
      "13\n",
      "Susan Craig\n",
      "31\n",
      "Heather Phillips\n",
      "15\n",
      "Donald Wilkinson\n",
      "30\n",
      "Bonnie Haynes\n",
      "29\n",
      "Edward Larson\n",
      "5\n",
      "Jeffrey Cooley\n",
      "16\n",
      "Julie Romero\n",
      "6\n",
      "Linda Sutton\n",
      "9\n"
     ]
    }
   ],
   "source": [
    "#Testing for 10 names\n",
    "for _ in range(1,10):\n",
    "    nama = fake_data.name()\n",
    "    rand = fake_data.unique.random_int(1,31)\n",
    "    print(nama)\n",
    "    print(rand)\n"
   ]
  },
  {
   "cell_type": "code",
   "execution_count": 8,
   "id": "e3a9b75c-775f-4ded-ae30-583182d78845",
   "metadata": {},
   "outputs": [],
   "source": [
    "#define empty list for entry the data\n",
    "dataset = []\n",
    "\n",
    "#define gender\n",
    "genders = ['Male', 'Female']\n",
    "\n",
    "#define number of data\n",
    "\n",
    "num_data = 30\n",
    "\n",
    "#create EmployeID\n",
    "\n",
    "#EmpID = fake_data.random_int(100,131)\n",
    "#dfemp = pd.DataFrame({\"Emp_ID\": EmpID})  \n",
    "\n",
    "# create looping for all data that we want to create\n",
    "# employee id, name, gender, address, city, country, job, email, date of birth, join date, salary\n",
    "\n",
    "for _ in range(num_data):\n",
    "    Id_emp = fake_data.random_int(100,999)\n",
    "    Gender = fake_data.random_element(genders)\n",
    "    Name = fake_data.unique.name_male() if Gender == 'Male' else fake_data.unique.name_female()\n",
    "    Address = fake_data.address()\n",
    "    City = fake_data.city()\n",
    "    Country = fake_data.country()\n",
    "    Job = fake_data.job()\n",
    "    Email = fake_data.email()\n",
    "    Dob = fake_data.date_of_birth()\n",
    "    Joindate = fake_data.past_date()\n",
    "    Salary = fake_data.random_int(1000,10000)\n",
    "    Entry = {\n",
    "        \"Name\": Name,\n",
    "        \"Emp_Id\": Id_emp,\n",
    "        \"Gender\": Gender,\n",
    "        \"Address\": Address,\n",
    "        \"City\": City,\n",
    "        \"Country\": Country,\n",
    "        \"Job\": Job,\n",
    "        \"Email\": Email,\n",
    "        \"Date_of_Birth\": Dob,\n",
    "        \"Join_Date\": Joindate,\n",
    "        \"Salary\": Salary\n",
    "    }\n",
    "    dataset.append(Entry)\n",
    "\n",
    "#print(dataset)\n",
    "#df_fix = pd.concat([dataset,dfemp], axis=1)\n",
    "#print(df_fix)\n",
    "    "
   ]
  },
  {
   "cell_type": "code",
   "execution_count": 9,
   "id": "bf6fcda6-781d-414c-9d88-151070459838",
   "metadata": {},
   "outputs": [],
   "source": [
    "df = pd.DataFrame(dataset)\n",
    "\n",
    "csv_file = 'dataset_dummy.csv'\n",
    "\n",
    "df.to_csv(csv_file)"
   ]
  },
  {
   "cell_type": "code",
   "execution_count": 10,
   "id": "fe35bf13-4013-4031-9b6c-2049a8fd295f",
   "metadata": {},
   "outputs": [
    {
     "name": "stdout",
     "output_type": "stream",
     "text": [
      "      Unnamed: 0  Name                  Emp_Id  Gender    Address                            City               Country                           Job                                     Email                       Date_of_Birth    Join_Date      Salary\n",
      "--  ------------  ------------------  --------  --------  ---------------------------------  -----------------  --------------------------------  --------------------------------------  --------------------------  ---------------  -----------  --------\n",
      " 0             0  Tracy Keith              644  Female    706 Robert Flats                   Lopezshire         Pitcairn Islands                  Radiographer, therapeutic               thomas01@example.org        1992-06-17       2024-12-07       8691\n",
      "                                                          Port Ryan, SC 13997\n",
      " 1             1  Christopher Miller       277  Male      23004 Brown Loaf                   Davidmouth         Saint Helena                      Engineer, automotive                    johnnorris@example.org      1957-07-06       2024-12-07       8436\n",
      "                                                          Abigailview, WY 23816\n",
      " 2             2  Susan Yates              491  Female    USS King                           Raychester         Slovakia (Slovak Republic)        Social worker                           garciadebbie@example.com    1939-10-05       2024-12-29       2102\n",
      "                                                          FPO AP 73072\n",
      " 3             3  David Barron             463  Male      83516 Wolf Streets                 East Anthony       Turkmenistan                      Public affairs consultant               crosslisa@example.org       1991-02-01       2024-12-09       6559\n",
      "                                                          Connieshire, MO 26192\n",
      " 4             4  Jessica Thompson         884  Female    238 Butler Gateway Suite 859       Annaburgh          Gabon                             Materials engineer                      pamela17@example.org        1945-03-31       2024-12-14       5217\n",
      "                                                          Kimberlyville, WI 12941\n",
      " 5             5  Kevin Pierce             446  Male      05414 Margaret Street              Vanessamouth       Reunion                           Call centre manager                     rebecca76@example.org       2023-02-07       2024-12-23       5507\n",
      "                                                          North Jayborough, ID 69597\n",
      " 6             6  Emily Kennedy DDS        488  Female    229 Price Crest                    Port Sarah         Saint Vincent and the Grenadines  Media planner                           vsanders@example.org        1989-01-11       2024-12-09       5964\n",
      "                                                          Walshside, IA 49704\n",
      " 7             7  Robert Jenkins           506  Male      637 Andrew Stream                  South Jason        Latvia                            Pharmacologist                          sanchezregina@example.net   1976-06-09       2024-12-28       5975\n",
      "                                                          Caseychester, TX 43876\n",
      " 8             8  Johnny Jackson           802  Male      2752 Torres Place                  North Stephen      Libyan Arab Jamahiriya            Medical illustrator                     swilliams@example.org       2024-07-09       2024-12-07       6232\n",
      "                                                          Hendersonton, WI 68945\n",
      " 9             9  Jared Pope               920  Male      62866 Sarah Lights                 Lauraborough       Angola                            Nature conservation officer             angelaelliott@example.com   1942-07-05       2024-12-06       9302\n",
      "                                                          Smithburgh, MA 67818\n",
      "10            10  Lisa Tucker              420  Female    869 Natasha Lake Apt. 111          New Davidmouth     Azerbaijan                        Materials engineer                      lisa38@example.net          1917-05-20       2024-12-04       7389\n",
      "                                                          Lake Kellyside, DC 90043\n",
      "11            11  Daniel Lewis             334  Male      776 Reyes Ville                    Barnesborough      France                            Paediatric nurse                        andrewmerritt@example.com   1932-09-28       2024-12-11       9810\n",
      "                                                          Robinsonmouth, ND 77317\n",
      "12            12  Jill Haas                275  Female    USNS Simmons                       Port Lesliebury    Anguilla                          Technical sales engineer                xguerra@example.net         1911-11-03       2024-12-17       2715\n",
      "                                                          FPO AP 70846\n",
      "13            13  Matthew Garcia           859  Male      06223 Samantha Station             Nelsontown         Serbia                            Music tutor                             ismall@example.com          1960-11-25       2024-12-13       1232\n",
      "                                                          Woodburgh, RI 63076\n",
      "14            14  Kayla Orr                660  Female    991 Susan Circle Suite 890         Powerstown         Wallis and Futuna                 Media buyer                             stephensutton@example.com   1973-04-11       2024-12-17       5936\n",
      "                                                          South Courtneyshire, MO 87487\n",
      "15            15  Katherine Taylor         761  Female    07434 Lindsay Lane                 Martinezchester    Chad                              Furniture designer                      amanda86@example.net        2003-01-18       2024-12-20       9107\n",
      "                                                          Nathanmouth, AK 57138\n",
      "16            16  Maria Robinson           774  Female    9420 Smith Extensions              Johnsonfort        Barbados                          Solicitor, Scotland                     parkmatthew@example.net     1969-04-09       2024-12-28       1226\n",
      "                                                          Careyshire, NV 30814\n",
      "17            17  Brian White              283  Male      3733 Rivera Junctions              Andersonfort       Tanzania                          Commissioning editor                    jenna04@example.com         1927-10-08       2024-12-25       3968\n",
      "                                                          North Brandon, PW 50780\n",
      "18            18  Steven Smith             816  Male      110 Yu View                        Jennifertown       Croatia                           Producer, television/film/video         rlloyd@example.org          1915-02-28       2024-12-30       6087\n",
      "                                                          Port Alexmouth, CA 49128\n",
      "19            19  Katherine Dickson        330  Female    1128 Davis Canyon                  Lake Williamtown   Guadeloupe                        Phytotherapist                          vlee@example.com            1914-10-11       2024-12-02       6186\n",
      "                                                          Harperburgh, DE 35590\n",
      "20            20  Christine Simpson        205  Female    4823 Ramos Estate Apt. 164         South Shirley      Pitcairn Islands                  Librarian, public                       cohenbrent@example.org      1962-09-22       2024-12-13       5205\n",
      "                                                          Webbfort, GA 34416\n",
      "21            21  Sarah Townsend           702  Female    68564 Justin Ridge Apt. 919        Michaelton         Burkina Faso                      Forensic psychologist                   gnguyen@example.net         1914-12-26       2024-12-05       7105\n",
      "                                                          Reyesview, OH 09117\n",
      "22            22  Bryan Aguilar            860  Male      92101 Scott Path                   West Gina          Kyrgyz Republic                   Scientist, research (maths)             thomas52@example.com        1961-05-28       2024-12-17       2833\n",
      "                                                          South Paulburgh, CT 72309\n",
      "23            23  Daniel Robertson         259  Male      896 Velasquez Lodge                North Juliamouth   Norway                            Research scientist (physical sciences)  laura37@example.com         2022-05-25       2024-12-25       8121\n",
      "                                                          Danielfurt, ME 36111\n",
      "24            24  Joy Mendoza              223  Female    8206 Phillips Mill Suite 933       Philipborough      Philippines                       Psychologist, sport and exercise        christopher73@example.org   1920-01-08       2024-12-12       4218\n",
      "                                                          New Brenda, PA 38632\n",
      "25            25  Sharon Jensen            784  Female    896 Derek Knoll                    North Bradley      Croatia                           Museum/gallery exhibitions officer      patrick72@example.net       1938-02-19       2024-12-28       1302\n",
      "                                                          East Catherine, MD 36057\n",
      "26            26  Christie Rodriguez       214  Female    108 Andrea Pine                    Dunnchester        Philippines                       Metallurgist                            kimchristopher@example.org  1957-06-20       2024-12-12       7998\n",
      "                                                          Lake Allisonmouth, DE 27215\n",
      "27            27  Mary Thomas              808  Female    8992 Johnson Crossroad             West Camerontown   Lebanon                           Dispensing optician                     travis16@example.org        1978-10-18       2024-12-16       5896\n",
      "                                                          Wrightchester, FM 05414\n",
      "28            28  Theresa Richardson       287  Female    504 Ann Passage Apt. 706           North Robertshire  Nigeria                           Tour manager                            gracegraham@example.com     1960-04-01       2024-12-28       7626\n",
      "                                                          New Williamberg, MO 39249\n",
      "29            29  Kyle Blanchard           956  Male      771 Hernandez Extensions Apt. 890  South Megan        Cyprus                            Ergonomist                              dhopkins@example.com        1981-07-09       2024-12-06       9001\n",
      "                                                          North Matthewville, AS 76361\n"
     ]
    }
   ],
   "source": [
    "from tabulate import tabulate\n",
    "\n",
    "data = pd.read_csv('dataset_dummy.csv')\n",
    "\n",
    "# Display the DataFrame with all columns using tabulate\n",
    "print(tabulate(data, headers='keys'))"
   ]
  },
  {
   "cell_type": "code",
   "execution_count": null,
   "id": "3154c440-3816-4ea7-8d6b-ce46382ee243",
   "metadata": {},
   "outputs": [],
   "source": []
  }
 ],
 "metadata": {
  "kernelspec": {
   "display_name": "Python 3 (ipykernel)",
   "language": "python",
   "name": "python3"
  },
  "language_info": {
   "codemirror_mode": {
    "name": "ipython",
    "version": 3
   },
   "file_extension": ".py",
   "mimetype": "text/x-python",
   "name": "python",
   "nbconvert_exporter": "python",
   "pygments_lexer": "ipython3",
   "version": "3.10.12"
  }
 },
 "nbformat": 4,
 "nbformat_minor": 5
}
